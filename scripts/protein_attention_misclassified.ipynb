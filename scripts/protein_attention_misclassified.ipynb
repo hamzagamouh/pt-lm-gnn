{
 "cells": [
  {
   "attachments": {},
   "cell_type": "markdown",
   "metadata": {},
   "source": [
    "This code visualizes the attention weights for the Graph Attention Network.\n",
    "\n",
    "The dictionary of results is stored in \"t5_GTP_attention_misclassified.p\" and contains 4 examples for proteins where there are binding sites misclassified by GCN but correctly classfified by GAT.\n",
    "\n",
    "TO run the code please install the following packages using pip\n",
    "\n",
    "`pip install numpy`\n",
    "\n",
    "`pip install py3Dmol`\n",
    "\n",
    "`pip install dgl`\n",
    "\n",
    "`pip install biopython`\n",
    "\n",
    "`pip install ipywidgets`\n",
    "\n"
   ]
  },
  {
   "cell_type": "code",
   "execution_count": 2,
   "metadata": {},
   "outputs": [],
   "source": [
    "import py3Dmol\n",
    "import pickle\n",
    "import numpy as np\n",
    "import dgl\n",
    "\n",
    "from Bio.PDB import *\n",
    "\n",
    "parser=PDBParser()\n",
    "\n",
    "from ipywidgets import interact, interactive, fixed, interact_manual\n"
   ]
  },
  {
   "cell_type": "code",
   "execution_count": 8,
   "metadata": {},
   "outputs": [
    {
     "name": "stderr",
     "output_type": "stream",
     "text": [
      "/tmp/ipykernel_926300/1206132962.py:42: VisibleDeprecationWarning: Creating an ndarray from ragged nested sequences (which is a list-or-tuple of lists-or-tuples-or ndarrays with different lengths or shapes) is deprecated. If you meant to do this, you must specify 'dtype=object' when creating the ndarray.\n",
      "  all_res=np.array(all_res)\n"
     ]
    }
   ],
   "source": [
    "MODIFIED_AA=[\"TOX\",\"MSE\",'LLP','TPO','CME','CSD','MLY','SEP','CSO']\n",
    "\n",
    "def is_AC(res):\n",
    "    if res.get_resname() in MODIFIED_AA:\n",
    "        return True\n",
    "    return res.get_full_id()[3][0]==\" \"\n",
    "\n",
    "def get_residues(protein):\n",
    "    pdb_id=protein.split(\"_\")[0].lower()\n",
    "    chain_id=protein.split(\"_\")[1]\n",
    "\n",
    "    structure = parser.get_structure(\"X\",f\"{pdb_id}.pdb\")\n",
    "\n",
    "    all_res=[]\n",
    "    for chain in structure.get_chains():\n",
    "        if chain.id==chain_id:\n",
    "            for res in chain.get_residues():\n",
    "                if is_AC(res):\n",
    "                    all_res+=[res]\n",
    "    return all_res\n",
    "\n",
    "\n",
    "# Choose the ligand\n",
    "LIGAND=\"GTP\"\n",
    "result=pickle.load(open(f\"t5_{LIGAND}_attention_misclassified.p\",\"rb\"))\n",
    "\n",
    "\n",
    "# Choose an example ! (k= 0,1,2)\n",
    "k=0\n",
    "\n",
    "# GET the pdb ids of the correpsonding proteins in the dictionary \n",
    "protein_results=result[k]  \n",
    "protein=protein_results[\"protein_name\"]\n",
    "all_res=get_residues(protein)\n",
    "\n",
    "# Predictions\n",
    "preds=protein_results[\"misclassified\"]\n",
    "# true labels\n",
    "true_bs=protein_results[\"misclassified\"]\n",
    "\n",
    "\n",
    "all_res=np.array(all_res)\n",
    "res_node_ids=np.array(range(len(all_res)))\n",
    "\n",
    "# predicted binding sites\n",
    "# pred_binding_sites=[x.id[1] for x in all_res[preds]]\n",
    "pred_binding_sites=[x.id[1] for x in all_res[preds]]\n",
    "pred_bs_node_ids=res_node_ids[preds]\n",
    "# true_binding_sites=[x.id[1] for x in all_res[true_bs]]\n",
    "A=np.asarray(protein_results[\"attention_weights\"])\n",
    "\n",
    "# This code visualizes the 5 most relevant neighbors of a predicted binding site\n",
    "def plot_attention(i):\n",
    "    binding_site=pred_binding_sites[i]\n",
    "    i=pred_binding_sites.index(binding_site)\n",
    "    relevant_neighbors=np.argsort(A[pred_bs_node_ids[i],:].flatten())[::-1][:5]\n",
    "    all_neighbors=[x.id[1] for x in all_res[A[pred_bs_node_ids[i],:]!=0]]\n",
    "    print(\"Total neighbors :\",len(all_neighbors))\n",
    "    relevant_residues=[x.id[1] for x in all_res[relevant_neighbors]]\n",
    "    print(\"Total attention for 5 most relevant neighbors\",A[pred_bs_node_ids[i],relevant_neighbors].sum()*100,\"%\")\n",
    "\n",
    "    viewer=py3Dmol.view(f'{protein.lower()[:4]}.pdb')\n",
    "    viewer.setStyle({},{'cartoon':{}})\n",
    "    viewer.addSurface(py3Dmol.VDW,{'opacity':0.8,'color':'lightblue'},{\"hetflag\":False})\n",
    "    viewer.setStyle({\"resi\":all_neighbors},{\"cartoon\":{\"color\":\"blue\"}})\n",
    "    viewer.setStyle({\"resi\":relevant_residues},{\"stick\":{\"color\":\"green\"}})\n",
    "    viewer.setStyle({\"resi\":binding_site},{\"stick\":{\"color\":\"yellow\"}})\n",
    "    viewer.setStyle({\"hetflag\":True},{\"stick\":{}})\n",
    "    viewer.show()\n",
    "\n"
   ]
  },
  {
   "cell_type": "code",
   "execution_count": 9,
   "metadata": {},
   "outputs": [
    {
     "data": {
      "application/vnd.jupyter.widget-view+json": {
       "model_id": "63497c36d0e2464fb35be2e11a720b08",
       "version_major": 2,
       "version_minor": 0
      },
      "text/plain": [
       "interactive(children=(Dropdown(description='i', options=(0,), value=0), Output()), _dom_classes=('widget-inter…"
      ]
     },
     "metadata": {},
     "output_type": "display_data"
    },
    {
     "data": {
      "text/plain": [
       "<function __main__.plot_attention(i)>"
      ]
     },
     "execution_count": 9,
     "metadata": {},
     "output_type": "execute_result"
    }
   ],
   "source": [
    "interact(plot_attention,i=range(len(pred_binding_sites)))"
   ]
  },
  {
   "cell_type": "code",
   "execution_count": null,
   "metadata": {},
   "outputs": [],
   "source": []
  }
 ],
 "metadata": {
  "kernelspec": {
   "display_name": "faiss",
   "language": "python",
   "name": "python3"
  },
  "language_info": {
   "codemirror_mode": {
    "name": "ipython",
    "version": 3
   },
   "file_extension": ".py",
   "mimetype": "text/x-python",
   "name": "python",
   "nbconvert_exporter": "python",
   "pygments_lexer": "ipython3",
   "version": "3.8.16"
  },
  "orig_nbformat": 4
 },
 "nbformat": 4,
 "nbformat_minor": 2
}
