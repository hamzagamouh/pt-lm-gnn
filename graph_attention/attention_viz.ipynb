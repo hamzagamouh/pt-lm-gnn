{
 "cells": [
  {
   "cell_type": "markdown",
   "metadata": {},
   "source": [
    "This code visualizes the attention weights for the Graph Attention Network.\n",
    "\n",
    "You can generate the dictionary of results from the `attention_visualization.py` script\n",
    "\n",
    "TO run the code please install the following packages using pip\n",
    "\n",
    "`pip install numpy`\n",
    "\n",
    "`pip install py3Dmol`\n",
    "\n",
    "`pip install dgl`\n",
    "\n",
    "`pip install biopython`\n",
    "\n",
    "`pip install ipywidgets`\n",
    "\n"
   ]
  },
  {
   "cell_type": "code",
   "execution_count": null,
   "metadata": {
    "vscode": {
     "languageId": "plaintext"
    }
   },
   "outputs": [],
   "source": [
    "import py3Dmol\n",
    "import pickle\n",
    "import numpy as np\n",
    "import dgl\n",
    "\n",
    "from Bio.PDB import *\n",
    "\n",
    "parser=PDBParser()\n",
    "\n",
    "from ipywidgets import interact, interactive, fixed, interact_manual\n",
    "\n",
    "\n",
    "MODIFIED_AA=[\"TOX\",\"MSE\",'LLP','TPO','CME','CSD','MLY','SEP','CSO']\n",
    "\n",
    "def is_AC(res):\n",
    "    if res.get_resname() in MODIFIED_AA:\n",
    "        return True\n",
    "    return res.get_full_id()[3][0]==\" \"\n",
    "\n",
    "def get_residues(protein):\n",
    "    pdb_id=protein.split(\"_\")[0].lower()\n",
    "    chain_id=protein.split(\"_\")[1]\n",
    "\n",
    "    structure = parser.get_structure(\"X\",f\"{pdb_id}.pdb\")\n",
    "\n",
    "    all_res=[]\n",
    "    for chain in structure.get_chains():\n",
    "        if chain.id==chain_id:\n",
    "            for res in chain.get_residues():\n",
    "                if is_AC(res):\n",
    "                    all_res+=[res]\n",
    "    return all_res\n",
    "\n",
    "EMB_NAME=\"t5\"\n",
    "LIAND=\"ADP\"\n",
    "\n",
    "data_folder=f\"/home/my_files\"\n",
    "viz_file=f\"{data_folder}_results/{EMB_NAME}_{LIGAND}_attention_results.p\"\n",
    "\n",
    "result=pickle.load(open(viz_file,\"rb\"))\n",
    "\n",
    "\n",
    "# Choose an example ! (k= 0,1,2...)\n",
    "k=0    \n",
    "\n",
    "# GET the pdb ids of the correpsonding proteins in the dictionary \n",
    "protein_results=result[k]  \n",
    "protein=protein_results[\"protein_name\"]\n",
    "all_res=get_residues(protein)\n",
    "\n",
    "# Predictions\n",
    "preds=result[\"predicted BS\"]\n",
    "# true labels\n",
    "true_bs=[bool(i[0]) for i in result[\"true BS\"]]\n",
    "\n",
    "\n",
    "all_res=np.array(all_res)\n",
    "res_node_ids=np.array(range(len(all_res)))\n",
    "\n",
    "# predicted binding sites\n",
    "pred_binding_sites=[x.id[1] for x in all_res[preds]]\n",
    "pred_bs_node_ids=res_node_ids[preds]\n",
    "# true_binding_sites=[x.id[1] for x in all_res[true_bs]]\n",
    "A=np.asarray(result[\"attention_weights\"])\n",
    "\n",
    "# This code visualizes the 5 most relevant neighbors of a predicted binding site\n",
    "def plot_attention(i):\n",
    "    binding_site=pred_binding_sites[i]\n",
    "    relevant_neighbors=np.argsort(A[pred_bs_node_ids[i],:].flatten())[::-1][:5]\n",
    "    all_neighbors=[x.id[1] for x in all_res[A[pred_bs_node_ids[i],:]!=0]]\n",
    "    print(\"Total neighbors :\",len(all_neighbors))\n",
    "    relevant_residues=[x.id[1] for x in all_res[relevant_neighbors]]\n",
    "    print(\"Total attention for 5 most relevant neighbors\",A[pred_bs_node_ids[i],relevant_neighbors].sum()*100,\"%\")\n",
    "\n",
    "    viewer=py3Dmol.view('3ted.pdb')\n",
    "    viewer.setStyle({},{'cartoon':{}})\n",
    "    viewer.setStyle({\"resi\":all_neighbors},{\"cartoon\":{\"color\":\"blue\"}})\n",
    "    viewer.setStyle({\"resi\":relevant_residues},{\"stick\":{\"color\":\"green\"}})\n",
    "    viewer.setStyle({\"resi\":binding_site},{\"stick\":{\"color\":\"yellow\"}})\n",
    "    viewer.show()\n",
    "\n"
   ]
  },
  {
   "cell_type": "code",
   "execution_count": null,
   "metadata": {
    "vscode": {
     "languageId": "plaintext"
    }
   },
   "outputs": [],
   "source": [
    "interact(plot_attention,i=range(len(pred_binding_sites)))"
   ]
  }
 ],
 "metadata": {
  "language_info": {
   "name": "python"
  }
 },
 "nbformat": 4,
 "nbformat_minor": 2
}
